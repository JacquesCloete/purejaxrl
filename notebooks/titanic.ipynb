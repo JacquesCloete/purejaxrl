{
 "cells": [
  {
   "cell_type": "markdown",
   "id": "67ec79bb",
   "metadata": {},
   "source": [
    "# PyTorch Developer's Guide to JAX Fundamentals"
   ]
  },
  {
   "cell_type": "markdown",
   "id": "1526c9f1",
   "metadata": {},
   "source": [
    "This notebook along with its accompanying blog post serves to help PyTorch users get familiar with Jax/Flax by connecting the building blocks they are already familiar with in PyTorch to their equivalents in Jax/Flax!"
   ]
  },
  {
   "cell_type": "markdown",
   "id": "127b3fb6",
   "metadata": {},
   "source": [
    "### Data Exploration\n",
    "We will be making use of the classic Titanic dataset. See\n",
    "https://www.kaggle.com/c/titanic/ for details."
   ]
  },
  {
   "cell_type": "code",
   "execution_count": 2,
   "id": "19940a91",
   "metadata": {},
   "outputs": [
    {
     "data": {
      "application/vnd.microsoft.datawrangler.viewer.v0+json": {
       "columns": [
        {
         "name": "index",
         "rawType": "int64",
         "type": "integer"
        },
        {
         "name": "PassengerId",
         "rawType": "int64",
         "type": "integer"
        },
        {
         "name": "Survived",
         "rawType": "int64",
         "type": "integer"
        },
        {
         "name": "Pclass",
         "rawType": "int64",
         "type": "integer"
        },
        {
         "name": "Name",
         "rawType": "object",
         "type": "string"
        },
        {
         "name": "Sex",
         "rawType": "object",
         "type": "string"
        },
        {
         "name": "Age",
         "rawType": "float64",
         "type": "float"
        },
        {
         "name": "SibSp",
         "rawType": "int64",
         "type": "integer"
        },
        {
         "name": "Parch",
         "rawType": "int64",
         "type": "integer"
        },
        {
         "name": "Ticket",
         "rawType": "object",
         "type": "string"
        },
        {
         "name": "Fare",
         "rawType": "float64",
         "type": "float"
        },
        {
         "name": "Cabin",
         "rawType": "object",
         "type": "unknown"
        },
        {
         "name": "Embarked",
         "rawType": "object",
         "type": "string"
        }
       ],
       "ref": "3993150f-4435-4c84-8b53-193d4f4f8b56",
       "rows": [
        [
         "0",
         "1",
         "0",
         "3",
         "Braund, Mr. Owen Harris",
         "male",
         "22.0",
         "1",
         "0",
         "A/5 21171",
         "7.25",
         null,
         "S"
        ],
        [
         "1",
         "2",
         "1",
         "1",
         "Cumings, Mrs. John Bradley (Florence Briggs Thayer)",
         "female",
         "38.0",
         "1",
         "0",
         "PC 17599",
         "71.2833",
         "C85",
         "C"
        ],
        [
         "2",
         "3",
         "1",
         "3",
         "Heikkinen, Miss. Laina",
         "female",
         "26.0",
         "0",
         "0",
         "STON/O2. 3101282",
         "7.925",
         null,
         "S"
        ],
        [
         "3",
         "4",
         "1",
         "1",
         "Futrelle, Mrs. Jacques Heath (Lily May Peel)",
         "female",
         "35.0",
         "1",
         "0",
         "113803",
         "53.1",
         "C123",
         "S"
        ],
        [
         "4",
         "5",
         "0",
         "3",
         "Allen, Mr. William Henry",
         "male",
         "35.0",
         "0",
         "0",
         "373450",
         "8.05",
         null,
         "S"
        ]
       ],
       "shape": {
        "columns": 12,
        "rows": 5
       }
      },
      "text/html": [
       "<div>\n",
       "<style scoped>\n",
       "    .dataframe tbody tr th:only-of-type {\n",
       "        vertical-align: middle;\n",
       "    }\n",
       "\n",
       "    .dataframe tbody tr th {\n",
       "        vertical-align: top;\n",
       "    }\n",
       "\n",
       "    .dataframe thead th {\n",
       "        text-align: right;\n",
       "    }\n",
       "</style>\n",
       "<table border=\"1\" class=\"dataframe\">\n",
       "  <thead>\n",
       "    <tr style=\"text-align: right;\">\n",
       "      <th></th>\n",
       "      <th>PassengerId</th>\n",
       "      <th>Survived</th>\n",
       "      <th>Pclass</th>\n",
       "      <th>Name</th>\n",
       "      <th>Sex</th>\n",
       "      <th>Age</th>\n",
       "      <th>SibSp</th>\n",
       "      <th>Parch</th>\n",
       "      <th>Ticket</th>\n",
       "      <th>Fare</th>\n",
       "      <th>Cabin</th>\n",
       "      <th>Embarked</th>\n",
       "    </tr>\n",
       "  </thead>\n",
       "  <tbody>\n",
       "    <tr>\n",
       "      <th>0</th>\n",
       "      <td>1</td>\n",
       "      <td>0</td>\n",
       "      <td>3</td>\n",
       "      <td>Braund, Mr. Owen Harris</td>\n",
       "      <td>male</td>\n",
       "      <td>22.0</td>\n",
       "      <td>1</td>\n",
       "      <td>0</td>\n",
       "      <td>A/5 21171</td>\n",
       "      <td>7.2500</td>\n",
       "      <td>NaN</td>\n",
       "      <td>S</td>\n",
       "    </tr>\n",
       "    <tr>\n",
       "      <th>1</th>\n",
       "      <td>2</td>\n",
       "      <td>1</td>\n",
       "      <td>1</td>\n",
       "      <td>Cumings, Mrs. John Bradley (Florence Briggs Th...</td>\n",
       "      <td>female</td>\n",
       "      <td>38.0</td>\n",
       "      <td>1</td>\n",
       "      <td>0</td>\n",
       "      <td>PC 17599</td>\n",
       "      <td>71.2833</td>\n",
       "      <td>C85</td>\n",
       "      <td>C</td>\n",
       "    </tr>\n",
       "    <tr>\n",
       "      <th>2</th>\n",
       "      <td>3</td>\n",
       "      <td>1</td>\n",
       "      <td>3</td>\n",
       "      <td>Heikkinen, Miss. Laina</td>\n",
       "      <td>female</td>\n",
       "      <td>26.0</td>\n",
       "      <td>0</td>\n",
       "      <td>0</td>\n",
       "      <td>STON/O2. 3101282</td>\n",
       "      <td>7.9250</td>\n",
       "      <td>NaN</td>\n",
       "      <td>S</td>\n",
       "    </tr>\n",
       "    <tr>\n",
       "      <th>3</th>\n",
       "      <td>4</td>\n",
       "      <td>1</td>\n",
       "      <td>1</td>\n",
       "      <td>Futrelle, Mrs. Jacques Heath (Lily May Peel)</td>\n",
       "      <td>female</td>\n",
       "      <td>35.0</td>\n",
       "      <td>1</td>\n",
       "      <td>0</td>\n",
       "      <td>113803</td>\n",
       "      <td>53.1000</td>\n",
       "      <td>C123</td>\n",
       "      <td>S</td>\n",
       "    </tr>\n",
       "    <tr>\n",
       "      <th>4</th>\n",
       "      <td>5</td>\n",
       "      <td>0</td>\n",
       "      <td>3</td>\n",
       "      <td>Allen, Mr. William Henry</td>\n",
       "      <td>male</td>\n",
       "      <td>35.0</td>\n",
       "      <td>0</td>\n",
       "      <td>0</td>\n",
       "      <td>373450</td>\n",
       "      <td>8.0500</td>\n",
       "      <td>NaN</td>\n",
       "      <td>S</td>\n",
       "    </tr>\n",
       "  </tbody>\n",
       "</table>\n",
       "</div>"
      ],
      "text/plain": [
       "   PassengerId  Survived  Pclass  \\\n",
       "0            1         0       3   \n",
       "1            2         1       1   \n",
       "2            3         1       3   \n",
       "3            4         1       1   \n",
       "4            5         0       3   \n",
       "\n",
       "                                                Name     Sex   Age  SibSp  \\\n",
       "0                            Braund, Mr. Owen Harris    male  22.0      1   \n",
       "1  Cumings, Mrs. John Bradley (Florence Briggs Th...  female  38.0      1   \n",
       "2                             Heikkinen, Miss. Laina  female  26.0      0   \n",
       "3       Futrelle, Mrs. Jacques Heath (Lily May Peel)  female  35.0      1   \n",
       "4                           Allen, Mr. William Henry    male  35.0      0   \n",
       "\n",
       "   Parch            Ticket     Fare Cabin Embarked  \n",
       "0      0         A/5 21171   7.2500   NaN        S  \n",
       "1      0          PC 17599  71.2833   C85        C  \n",
       "2      0  STON/O2. 3101282   7.9250   NaN        S  \n",
       "3      0            113803  53.1000  C123        S  \n",
       "4      0            373450   8.0500   NaN        S  "
      ]
     },
     "execution_count": 2,
     "metadata": {},
     "output_type": "execute_result"
    }
   ],
   "source": [
    "import pandas as pd\n",
    "\n",
    "df = pd.read_csv(\"data/titanic/train.csv\")\n",
    "df.head()"
   ]
  },
  {
   "cell_type": "code",
   "execution_count": 3,
   "id": "9a9525ab",
   "metadata": {},
   "outputs": [
    {
     "data": {
      "application/vnd.microsoft.datawrangler.viewer.v0+json": {
       "columns": [
        {
         "name": "index",
         "rawType": "int64",
         "type": "integer"
        },
        {
         "name": "PassengerId",
         "rawType": "int64",
         "type": "integer"
        },
        {
         "name": "Pclass",
         "rawType": "int64",
         "type": "integer"
        },
        {
         "name": "Sex",
         "rawType": "int64",
         "type": "integer"
        },
        {
         "name": "Age",
         "rawType": "float64",
         "type": "float"
        },
        {
         "name": "SibSp",
         "rawType": "int64",
         "type": "integer"
        },
        {
         "name": "Parch",
         "rawType": "int64",
         "type": "integer"
        },
        {
         "name": "Fare",
         "rawType": "float64",
         "type": "float"
        },
        {
         "name": "Embarked",
         "rawType": "float64",
         "type": "float"
        }
       ],
       "ref": "900c634d-9285-4be1-8e5b-fcccdab84299",
       "rows": [
        [
         "0",
         "1",
         "3",
         "0",
         "22.0",
         "1",
         "0",
         "7.25",
         "0.0"
        ],
        [
         "1",
         "2",
         "1",
         "1",
         "38.0",
         "1",
         "0",
         "71.2833",
         "1.0"
        ],
        [
         "2",
         "3",
         "3",
         "1",
         "26.0",
         "0",
         "0",
         "7.925",
         "0.0"
        ],
        [
         "3",
         "4",
         "1",
         "1",
         "35.0",
         "1",
         "0",
         "53.1",
         "0.0"
        ],
        [
         "4",
         "5",
         "3",
         "0",
         "35.0",
         "0",
         "0",
         "8.05",
         "0.0"
        ]
       ],
       "shape": {
        "columns": 8,
        "rows": 5
       }
      },
      "text/html": [
       "<div>\n",
       "<style scoped>\n",
       "    .dataframe tbody tr th:only-of-type {\n",
       "        vertical-align: middle;\n",
       "    }\n",
       "\n",
       "    .dataframe tbody tr th {\n",
       "        vertical-align: top;\n",
       "    }\n",
       "\n",
       "    .dataframe thead th {\n",
       "        text-align: right;\n",
       "    }\n",
       "</style>\n",
       "<table border=\"1\" class=\"dataframe\">\n",
       "  <thead>\n",
       "    <tr style=\"text-align: right;\">\n",
       "      <th></th>\n",
       "      <th>PassengerId</th>\n",
       "      <th>Pclass</th>\n",
       "      <th>Sex</th>\n",
       "      <th>Age</th>\n",
       "      <th>SibSp</th>\n",
       "      <th>Parch</th>\n",
       "      <th>Fare</th>\n",
       "      <th>Embarked</th>\n",
       "    </tr>\n",
       "  </thead>\n",
       "  <tbody>\n",
       "    <tr>\n",
       "      <th>0</th>\n",
       "      <td>1</td>\n",
       "      <td>3</td>\n",
       "      <td>0</td>\n",
       "      <td>22.0</td>\n",
       "      <td>1</td>\n",
       "      <td>0</td>\n",
       "      <td>7.2500</td>\n",
       "      <td>0.0</td>\n",
       "    </tr>\n",
       "    <tr>\n",
       "      <th>1</th>\n",
       "      <td>2</td>\n",
       "      <td>1</td>\n",
       "      <td>1</td>\n",
       "      <td>38.0</td>\n",
       "      <td>1</td>\n",
       "      <td>0</td>\n",
       "      <td>71.2833</td>\n",
       "      <td>1.0</td>\n",
       "    </tr>\n",
       "    <tr>\n",
       "      <th>2</th>\n",
       "      <td>3</td>\n",
       "      <td>3</td>\n",
       "      <td>1</td>\n",
       "      <td>26.0</td>\n",
       "      <td>0</td>\n",
       "      <td>0</td>\n",
       "      <td>7.9250</td>\n",
       "      <td>0.0</td>\n",
       "    </tr>\n",
       "    <tr>\n",
       "      <th>3</th>\n",
       "      <td>4</td>\n",
       "      <td>1</td>\n",
       "      <td>1</td>\n",
       "      <td>35.0</td>\n",
       "      <td>1</td>\n",
       "      <td>0</td>\n",
       "      <td>53.1000</td>\n",
       "      <td>0.0</td>\n",
       "    </tr>\n",
       "    <tr>\n",
       "      <th>4</th>\n",
       "      <td>5</td>\n",
       "      <td>3</td>\n",
       "      <td>0</td>\n",
       "      <td>35.0</td>\n",
       "      <td>0</td>\n",
       "      <td>0</td>\n",
       "      <td>8.0500</td>\n",
       "      <td>0.0</td>\n",
       "    </tr>\n",
       "  </tbody>\n",
       "</table>\n",
       "</div>"
      ],
      "text/plain": [
       "   PassengerId  Pclass  Sex   Age  SibSp  Parch     Fare  Embarked\n",
       "0            1       3    0  22.0      1      0   7.2500       0.0\n",
       "1            2       1    1  38.0      1      0  71.2833       1.0\n",
       "2            3       3    1  26.0      0      0   7.9250       0.0\n",
       "3            4       1    1  35.0      1      0  53.1000       0.0\n",
       "4            5       3    0  35.0      0      0   8.0500       0.0"
      ]
     },
     "execution_count": 3,
     "metadata": {},
     "output_type": "execute_result"
    }
   ],
   "source": [
    "def preprocess_titanic_data(df: pd.DataFrame) -> tuple[pd.DataFrame, pd.Series]:\n",
    "    \"\"\"\n",
    "    Basic preprocessing of the Titanic dataset for usage within ML training\n",
    "    \"\"\"\n",
    "    df = df.drop(columns=[\"Name\", \"Ticket\", \"Cabin\"], axis=1)\n",
    "    df[\"Sex\"] = df[\"Sex\"].map({\"male\": 0, \"female\": 1})\n",
    "    df[\"Embarked\"] = df[\"Embarked\"].map({\"S\": 0, \"C\": 1, \"Q\": 2})\n",
    "    df[\"Age\"] = df[\"Age\"].fillna(df[\"Age\"].median())\n",
    "    df = df.dropna()\n",
    "    labels = df.pop(\"Survived\")\n",
    "    return df, labels\n",
    "\n",
    "\n",
    "df, labels = preprocess_titanic_data(df)\n",
    "df.head()"
   ]
  },
  {
   "cell_type": "code",
   "execution_count": 4,
   "id": "980de9a4",
   "metadata": {},
   "outputs": [],
   "source": [
    "# Split data into train and test/eval\n",
    "from sklearn.model_selection import train_test_split\n",
    "\n",
    "X_train, X_test, y_train, y_test = train_test_split(\n",
    "    df, labels, test_size=0.2, random_state=42\n",
    ")"
   ]
  },
  {
   "cell_type": "markdown",
   "id": "9b30de39",
   "metadata": {},
   "source": [
    "As a baseline, let's train a simple RandomForestClassifier with this data"
   ]
  },
  {
   "cell_type": "code",
   "execution_count": 5,
   "id": "e8b8fe39",
   "metadata": {},
   "outputs": [
    {
     "name": "stdout",
     "output_type": "stream",
     "text": [
      "0.797752808988764\n"
     ]
    }
   ],
   "source": [
    "from sklearn.ensemble import RandomForestClassifier\n",
    "from sklearn.metrics import accuracy_score\n",
    "\n",
    "rf = RandomForestClassifier(n_estimators=100, random_state=42)\n",
    "rf.fit(X_train, y_train)\n",
    "\n",
    "y_pred = rf.predict(X_test)\n",
    "\n",
    "print(accuracy_score(y_test, y_pred))"
   ]
  },
  {
   "cell_type": "markdown",
   "id": "7706921b",
   "metadata": {},
   "source": [
    "### Dataloader\n",
    "See https://jax.readthedocs.io/en/latest/notebooks/Neural_Network_and_Data_Loading.html for more details"
   ]
  },
  {
   "cell_type": "code",
   "execution_count": 6,
   "id": "8efa6f82",
   "metadata": {},
   "outputs": [],
   "source": [
    "import torch\n",
    "import jax.numpy as jnp\n",
    "from torch.utils.data import Dataset, DataLoader, default_collate\n",
    "from jax.tree_util import tree_map\n",
    "\n",
    "\n",
    "class TitanicDataset(Dataset):\n",
    "    def __init__(self, samples: pd.DataFrame, labels: pd.Series):\n",
    "        self.df = samples\n",
    "        self.labels = labels\n",
    "\n",
    "    def __len__(self):\n",
    "        return len(self.df)\n",
    "\n",
    "    def __getitem__(self, idx):\n",
    "        x = torch.tensor(self.df.iloc[idx].values, dtype=torch.float32)\n",
    "        y = torch.tensor(self.labels.iloc[idx], dtype=torch.int32)\n",
    "        return x, y\n",
    "\n",
    "\n",
    "# This collate function is taken from the JAX tutorial with PyTorch Data Loading\n",
    "# https://jax.readthedocs.io/en/latest/notebooks/Neural_Network_and_Data_Loading.html\n",
    "def numpy_collate(batch):\n",
    "    return tree_map(jnp.asarray, default_collate(batch))\n",
    "\n",
    "\n",
    "train_dataset = TitanicDataset(X_train, y_train)\n",
    "train_dataloader_jax = DataLoader(\n",
    "    train_dataset, batch_size=64, shuffle=True, collate_fn=numpy_collate\n",
    ")\n",
    "train_dataloader_torch = DataLoader(train_dataset, batch_size=64, shuffle=True)\n",
    "\n",
    "eval_dataset = TitanicDataset(X_test, y_test)\n",
    "eval_dataloader_jax = DataLoader(\n",
    "    eval_dataset, batch_size=64, shuffle=False, collate_fn=numpy_collate\n",
    ")\n",
    "eval_dataloader_torch = DataLoader(eval_dataset, batch_size=64, shuffle=False)"
   ]
  },
  {
   "cell_type": "markdown",
   "id": "0b697354",
   "metadata": {},
   "source": [
    "### PyTorch Reference Implementation and Training"
   ]
  },
  {
   "cell_type": "markdown",
   "id": "7b14904a",
   "metadata": {},
   "source": [
    "Model Definition"
   ]
  },
  {
   "cell_type": "code",
   "execution_count": 7,
   "id": "9a8ae58f",
   "metadata": {},
   "outputs": [],
   "source": [
    "import torch.nn as nn\n",
    "import torch.optim as optim\n",
    "\n",
    "\n",
    "class TitanicNeuralNet(nn.Module):\n",
    "    def __init__(self, num_hidden_1, num_hidden_2):\n",
    "        super().__init__()\n",
    "        self.linear1 = nn.Linear(8, num_hidden_1)\n",
    "        self.dropout = nn.Dropout(0.01)\n",
    "        self.relu = nn.LeakyReLU()\n",
    "        self.linear2 = nn.Linear(num_hidden_1, num_hidden_2)\n",
    "        self.linear3 = nn.Linear(num_hidden_2, 1, bias=False)\n",
    "\n",
    "    def forward(self, x):\n",
    "        x = self.linear1(x)\n",
    "        x = self.dropout(x)\n",
    "        x = self.relu(x)\n",
    "        x = self.linear2(x)\n",
    "        x = self.dropout(x)\n",
    "        x = self.relu(x)\n",
    "        out = self.linear3(x)\n",
    "        return out"
   ]
  },
  {
   "cell_type": "markdown",
   "id": "f39016a8",
   "metadata": {},
   "source": [
    "Training Loop"
   ]
  },
  {
   "cell_type": "code",
   "execution_count": 8,
   "id": "9f7aa9bd",
   "metadata": {},
   "outputs": [
    {
     "name": "stderr",
     "output_type": "stream",
     "text": [
      "Epoch 499: 100%|██████████| 500/500 [00:29<00:00, 16.77it/s, eval_accuracy=0.787, train_accuracy=0.858]\n"
     ]
    }
   ],
   "source": [
    "from tqdm import tqdm\n",
    "\n",
    "\n",
    "def train(\n",
    "    model: nn.Module,\n",
    "    train_dataloader: DataLoader,\n",
    "    eval_dataloader: DataLoader,\n",
    "    num_epochs: int,\n",
    "):\n",
    "    optimizer = optim.Adam(model.parameters(), lr=0.01)\n",
    "    criterion = torch.nn.BCEWithLogitsLoss()\n",
    "    for epoch in (pbar := tqdm(range(num_epochs))):\n",
    "        pbar.set_description(f\"Epoch {epoch}\")\n",
    "        model.train()\n",
    "        for batch, labels in train_dataloader:\n",
    "            # zero your gradients\n",
    "            optimizer.zero_grad()\n",
    "\n",
    "            # forward pass\n",
    "            logits = model(batch)\n",
    "\n",
    "            # compute loss\n",
    "            loss = criterion(logits.squeeze(), labels.float())\n",
    "\n",
    "            # backward pass\n",
    "            loss.backward()\n",
    "\n",
    "            # take an optimizer step\n",
    "            optimizer.step()\n",
    "\n",
    "        pbar.set_postfix(\n",
    "            train_accuracy=eval(model, train_dataloader),\n",
    "            eval_accuracy=eval(model, eval_dataloader),\n",
    "        )\n",
    "\n",
    "\n",
    "def eval(model: nn.Module, eval_dataloader: DataLoader):\n",
    "    model.eval()\n",
    "    num_correct = 0\n",
    "    num_samples = 0\n",
    "    for batch, labels in eval_dataloader:\n",
    "        logits = model(batch)\n",
    "        preds = torch.round(torch.sigmoid(logits))\n",
    "        num_correct += (preds.squeeze() == labels).sum().item()\n",
    "        num_samples += labels.shape[0]\n",
    "    return num_correct / num_samples\n",
    "\n",
    "\n",
    "model = TitanicNeuralNet(num_hidden_1=32, num_hidden_2=16)\n",
    "train(model, train_dataloader_torch, eval_dataloader_torch, num_epochs=500)"
   ]
  },
  {
   "cell_type": "markdown",
   "id": "a3d09ad0",
   "metadata": {},
   "source": [
    "### Flax NNX (Object-Oriented) Neural Net\n",
    "See https://flax.readthedocs.io/en/latest/index.html for full NNX documentation, with more examples and a deeper dive."
   ]
  },
  {
   "cell_type": "markdown",
   "id": "95d3690d",
   "metadata": {},
   "source": [
    "Model Definition"
   ]
  },
  {
   "cell_type": "code",
   "execution_count": 17,
   "id": "cb99f486",
   "metadata": {},
   "outputs": [],
   "source": [
    "from flax import nnx\n",
    "\n",
    "\n",
    "class TitanicNNX(nnx.Module):\n",
    "    def __init__(self, num_hidden_1: int, num_hidden_2: int, rngs: nnx.Rngs):\n",
    "        self.linear1 = nnx.Linear(8, num_hidden_1, rngs=rngs)\n",
    "        self.dropout = nnx.Dropout(0.01, rngs=rngs)\n",
    "        self.relu = nnx.leaky_relu\n",
    "        self.linear2 = nnx.Linear(num_hidden_1, num_hidden_2, rngs=rngs)\n",
    "        self.linear3 = nnx.Linear(num_hidden_2, 1, use_bias=False, rngs=rngs)\n",
    "\n",
    "    def __call__(self, x):\n",
    "        x = self.linear1(x)\n",
    "        x = self.dropout(x)\n",
    "        x = self.relu(x)\n",
    "        x = self.linear2(x)\n",
    "        x = self.dropout(x)\n",
    "        x = self.relu(x)\n",
    "        out = self.linear3(x)\n",
    "        return out"
   ]
  },
  {
   "cell_type": "markdown",
   "id": "f314b8ff",
   "metadata": {},
   "source": [
    "Initialize the Model"
   ]
  },
  {
   "cell_type": "code",
   "execution_count": 18,
   "id": "0d8adb03",
   "metadata": {},
   "outputs": [
    {
     "name": "stdout",
     "output_type": "stream",
     "text": [
      "TitanicNNX(\n",
      "  linear1=Linear(\n",
      "    kernel=Param(\n",
      "      value=Array(shape=(8, 32), dtype=float32)\n",
      "    ),\n",
      "    bias=Param(\n",
      "      value=Array(shape=(32,), dtype=float32)\n",
      "    ),\n",
      "    in_features=8,\n",
      "    out_features=32,\n",
      "    use_bias=True,\n",
      "    dtype=None,\n",
      "    param_dtype=<class 'jax.numpy.float32'>,\n",
      "    precision=None,\n",
      "    kernel_init=<function variance_scaling.<locals>.init at 0x7fb7b81808b0>,\n",
      "    bias_init=<function zeros at 0x7fba9b00b9a0>,\n",
      "    dot_general=<function dot_general at 0x7fba9ba1dbd0>\n",
      "  ),\n",
      "  dropout=Dropout(rate=0.01, broadcast_dims=(), deterministic=False, rng_collection='dropout', rngs=Rngs(\n",
      "    default=RngStream(\n",
      "      key=RngKey(\n",
      "        value=Array((), dtype=key<fry>) overlaying:\n",
      "        [0 0],\n",
      "        tag='default'\n",
      "      ),\n",
      "      count=RngCount(\n",
      "        value=Array(5, dtype=uint32),\n",
      "        tag='default'\n",
      "      )\n",
      "    )\n",
      "  )),\n",
      "  relu=<PjitFunction of <function leaky_relu at 0x7fba9b0a2d40>>,\n",
      "  linear2=Linear(\n",
      "    kernel=Param(\n",
      "      value=Array(shape=(32, 16), dtype=float32)\n",
      "    ),\n",
      "    bias=Param(\n",
      "      value=Array(shape=(16,), dtype=float32)\n",
      "    ),\n",
      "    in_features=32,\n",
      "    out_features=16,\n",
      "    use_bias=True,\n",
      "    dtype=None,\n",
      "    param_dtype=<class 'jax.numpy.float32'>,\n",
      "    precision=None,\n",
      "    kernel_init=<function variance_scaling.<locals>.init at 0x7fb7b81808b0>,\n",
      "    bias_init=<function zeros at 0x7fba9b00b9a0>,\n",
      "    dot_general=<function dot_general at 0x7fba9ba1dbd0>\n",
      "  ),\n",
      "  linear3=Linear(\n",
      "    kernel=Param(\n",
      "      value=Array(shape=(16, 1), dtype=float32)\n",
      "    ),\n",
      "    bias=Param(\n",
      "      value=None\n",
      "    ),\n",
      "    in_features=16,\n",
      "    out_features=1,\n",
      "    use_bias=False,\n",
      "    dtype=None,\n",
      "    param_dtype=<class 'jax.numpy.float32'>,\n",
      "    precision=None,\n",
      "    kernel_init=<function variance_scaling.<locals>.init at 0x7fb7b81808b0>,\n",
      "    bias_init=<function zeros at 0x7fba9b00b9a0>,\n",
      "    dot_general=<function dot_general at 0x7fba9ba1dbd0>\n",
      "  )\n",
      ")\n"
     ]
    }
   ],
   "source": [
    "model = TitanicNNX(32, 16, rngs=nnx.Rngs(0))\n",
    "nnx.display(model)"
   ]
  },
  {
   "cell_type": "markdown",
   "id": "df9a3711",
   "metadata": {},
   "source": [
    "Training Loop Setup"
   ]
  },
  {
   "cell_type": "code",
   "execution_count": 19,
   "id": "c941e5bf",
   "metadata": {},
   "outputs": [],
   "source": [
    "import optax\n",
    "from jax import Array\n",
    "\n",
    "\n",
    "def train(\n",
    "    model: nnx.Module,\n",
    "    train_dataloader: DataLoader,\n",
    "    eval_dataloader: DataLoader,\n",
    "    num_epochs=int,\n",
    "):\n",
    "    optimizer = nnx.Optimizer(model, optax.adam(learning_rate=0.01))\n",
    "\n",
    "    for epoch in (pbar := tqdm(range(num_epochs))):\n",
    "        pbar.set_description(f\"Epoch {epoch}\")\n",
    "        model.train()\n",
    "        for batch in train_dataloader:\n",
    "            train_step(model, optimizer, batch)\n",
    "\n",
    "        pbar.set_postfix(\n",
    "            train_accuracy=eval(model, train_dataloader),\n",
    "            eval_accuracy=eval(model, eval_dataloader),\n",
    "        )\n",
    "\n",
    "\n",
    "@nnx.jit\n",
    "def train_step(model: nnx.Module, optimizer: nnx.Optimizer, batch: Array):\n",
    "    def loss_fn(model):\n",
    "        logits = model(batch[0])\n",
    "        loss = optax.sigmoid_binary_cross_entropy(logits.squeeze(), batch[1]).mean()\n",
    "        return loss\n",
    "\n",
    "    grad_fn = nnx.value_and_grad(loss_fn)\n",
    "    loss, grads = grad_fn(model)\n",
    "    optimizer.update(grads)\n",
    "\n",
    "\n",
    "def eval(model: nnx.Module, eval_dataloader: DataLoader):\n",
    "    total = 0\n",
    "    num_correct = 0\n",
    "    model.eval()\n",
    "    for batch in eval_dataloader:\n",
    "        res = eval_step(model, batch)\n",
    "        total += res.shape[0]\n",
    "        num_correct += jnp.sum(res)\n",
    "    return num_correct / total\n",
    "\n",
    "\n",
    "@nnx.jit\n",
    "def eval_step(model: nnx.Module, batch: Array):\n",
    "    logits = model(batch[0])\n",
    "    logits = logits.squeeze()\n",
    "    preds = jnp.round(nnx.sigmoid(logits))\n",
    "    return preds == batch[1]"
   ]
  },
  {
   "cell_type": "markdown",
   "id": "9533d579",
   "metadata": {},
   "source": [
    "Initiate Training"
   ]
  },
  {
   "cell_type": "code",
   "execution_count": 20,
   "id": "d7da3a5d",
   "metadata": {},
   "outputs": [
    {
     "name": "stderr",
     "output_type": "stream",
     "text": [
      "Epoch 499: 100%|██████████| 500/500 [00:38<00:00, 13.03it/s, eval_accuracy=0.76404494, train_accuracy=0.84388185]\n"
     ]
    }
   ],
   "source": [
    "train(model, train_dataloader_jax, eval_dataloader_jax, num_epochs=500)"
   ]
  },
  {
   "cell_type": "markdown",
   "id": "a6cb32ea",
   "metadata": {},
   "source": [
    "### Flax Linen (Functional) Neural Net\n",
    "\n",
    "See https://flax-linen.readthedocs.io/en/latest/index.html for full Linen documentation, with more examples and a deeper dive."
   ]
  },
  {
   "cell_type": "code",
   "execution_count": 24,
   "id": "86ba0578",
   "metadata": {},
   "outputs": [],
   "source": [
    "import jax\n",
    "from flax import linen as nn\n",
    "\n",
    "initializer = jax.nn.initializers.lecun_normal()\n",
    "\n",
    "# Model definition\n",
    "\n",
    "\n",
    "# setup(approach)\n",
    "class TitanicLinen(nn.Module):\n",
    "    num_hidden_1: int\n",
    "    num_hidden_2: int\n",
    "\n",
    "    def setup(self):\n",
    "        self.linear1 = nn.Dense(features=self.num_hidden_1, kernel_init=initializer)\n",
    "        self.linear2 = nn.Dense(features=self.num_hidden_2, kernel_init=initializer)\n",
    "        self.linear3 = nn.Dense(features=1, use_bias=False, kernel_init=initializer)\n",
    "        self.dropout1 = nn.Dropout(0.01)\n",
    "        self.dropout2 = nn.Dropout(0.01)\n",
    "\n",
    "    def __call__(self, x, training):\n",
    "        x = self.linear1(x)\n",
    "        x = self.dropout1(x, deterministic=not training)\n",
    "        x = nn.leaky_relu(x)\n",
    "        x = self.linear2(x)\n",
    "        x = self.dropout2(x, deterministic=not training)\n",
    "        x = nn.leaky_relu(x)\n",
    "        out = self.linear3(x)\n",
    "        return out\n",
    "\n",
    "\n",
    "## nn.compact approach\n",
    "class TitanicLinenCompact(nn.Module):\n",
    "    num_hidden_1: int\n",
    "    num_hidden_2: int\n",
    "\n",
    "    @nn.compact\n",
    "    def __call__(self, x, training):\n",
    "        x = nn.Dense(features=self.num_hidden_1, kernel_init=initializer)(x)\n",
    "        x = nn.Dropout(0.01, deterministic=not training)(x)\n",
    "        x = nn.leaky_relu(x)\n",
    "        x = nn.Dense(features=self.num_hidden_2, kernel_init=initializer)(x)\n",
    "        x = nn.Dropout(0.01, deterministic=not training)(x)\n",
    "        x = nn.leaky_relu(x)\n",
    "        out = nn.Dense(features=1, use_bias=False, kernel_init=initializer)(x)\n",
    "        return out"
   ]
  },
  {
   "cell_type": "code",
   "execution_count": 25,
   "id": "e9d4fb0e",
   "metadata": {},
   "outputs": [
    {
     "data": {
      "text/plain": [
       "(64, 1)"
      ]
     },
     "execution_count": 25,
     "metadata": {},
     "output_type": "execute_result"
    }
   ],
   "source": [
    "rng = jax.random.PRNGKey(42)\n",
    "new_rng, subkey, subdropout = jax.random.split(rng, num=3)\n",
    "\n",
    "sample_data, sample_labels = next(iter(train_dataloader_jax))\n",
    "model = TitanicLinenCompact(num_hidden_1=32, num_hidden_2=16)\n",
    "params = model.init(subkey, sample_data, True)\n",
    "logits = model.apply(params, sample_data, True, rngs={\"dropout\": subdropout})\n",
    "logits.shape"
   ]
  },
  {
   "cell_type": "code",
   "execution_count": 26,
   "id": "37ac7924",
   "metadata": {},
   "outputs": [],
   "source": [
    "import optax\n",
    "from flax.training import train_state\n",
    "\n",
    "# Setup for train loop\n",
    "optimizer = optax.adam(learning_rate=0.01)\n",
    "\n",
    "state = train_state.TrainState.create(\n",
    "    apply_fn=model.apply,\n",
    "    params=params,\n",
    "    tx=optimizer,\n",
    ")"
   ]
  },
  {
   "cell_type": "code",
   "execution_count": 27,
   "id": "cf522358",
   "metadata": {},
   "outputs": [],
   "source": [
    "from jax import jit\n",
    "\n",
    "\n",
    "# Train loop\n",
    "def train(state, train_dataloader, eval_dataloader, subdropout, num_epochs):\n",
    "    for epoch in (pbar := tqdm(range(num_epochs))):\n",
    "        pbar.set_description(f\"Epoch {epoch}\")\n",
    "        for batch in train_dataloader:\n",
    "            state, loss = train_step(state, batch, subdropout)\n",
    "\n",
    "        pbar.set_postfix(\n",
    "            train_accuracy=eval(state, train_dataloader),\n",
    "            eval_accuracy=eval(state, eval_dataloader),\n",
    "        )\n",
    "\n",
    "    return state\n",
    "\n",
    "\n",
    "def eval(state, eval_dataloader):\n",
    "    total = 0\n",
    "    num_correct = 0\n",
    "    for batch in eval_dataloader:\n",
    "        res = eval_step(state, batch)\n",
    "        total += res.shape[0]\n",
    "        num_correct += jnp.sum(res)\n",
    "    return num_correct / total\n",
    "\n",
    "\n",
    "@jit\n",
    "def train_step(state, batch, subdropout):\n",
    "    def loss_fn(params):\n",
    "        logits = state.apply_fn(params, batch[0], True, rngs={\"dropout\": subdropout})\n",
    "        loss = optax.sigmoid_binary_cross_entropy(logits.squeeze(), batch[1]).mean()\n",
    "        return loss\n",
    "\n",
    "    grad_fn = jax.value_and_grad(loss_fn)\n",
    "    loss, grads = grad_fn(state.params)\n",
    "    state = state.apply_gradients(grads=grads)\n",
    "    return state, loss\n",
    "\n",
    "\n",
    "@jit\n",
    "def eval_step(state, batch):\n",
    "    logits = state.apply_fn(state.params, batch[0], False)\n",
    "    logits = logits.squeeze()\n",
    "    preds = jnp.round(nn.sigmoid(logits))\n",
    "    return preds == batch[1]"
   ]
  },
  {
   "cell_type": "code",
   "execution_count": 28,
   "id": "907f0187",
   "metadata": {},
   "outputs": [
    {
     "name": "stderr",
     "output_type": "stream",
     "text": [
      "Epoch 499: 100%|██████████| 500/500 [00:30<00:00, 16.22it/s, eval_accuracy=0.75842696, train_accuracy=0.8410689] \n"
     ]
    }
   ],
   "source": [
    "state = train(\n",
    "    state, train_dataloader_jax, eval_dataloader_jax, subdropout, num_epochs=500\n",
    ")"
   ]
  }
 ],
 "metadata": {
  "kernelspec": {
   "display_name": "purejaxrl",
   "language": "python",
   "name": "python3"
  },
  "language_info": {
   "codemirror_mode": {
    "name": "ipython",
    "version": 3
   },
   "file_extension": ".py",
   "mimetype": "text/x-python",
   "name": "python",
   "nbconvert_exporter": "python",
   "pygments_lexer": "ipython3",
   "version": "3.10.18"
  }
 },
 "nbformat": 4,
 "nbformat_minor": 5
}
