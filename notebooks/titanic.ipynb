{
 "cells": [
  {
   "cell_type": "markdown",
   "id": "67ec79bb",
   "metadata": {},
   "source": [
    "# PyTorch Developer's Guide to JAX Fundamentals"
   ]
  },
  {
   "cell_type": "markdown",
   "id": "1526c9f1",
   "metadata": {},
   "source": [
    "This notebook along with its accompanying blog post serves to help PyTorch users get familiar with Jax/Flax by connecting the building blocks they are already familiar with in PyTorch to their equivalents in Jax/Flax!"
   ]
  },
  {
   "cell_type": "markdown",
   "id": "127b3fb6",
   "metadata": {},
   "source": [
    "### Data Exploration\n",
    "We will be making use of the classic Titanic dataset. See\n",
    "https://www.kaggle.com/c/titanic/ for details."
   ]
  },
  {
   "cell_type": "code",
   "execution_count": 1,
   "id": "247bec0a",
   "metadata": {},
   "outputs": [
    {
     "data": {
      "text/plain": [
       "True"
      ]
     },
     "execution_count": 1,
     "metadata": {},
     "output_type": "execute_result"
    }
   ],
   "source": [
    "import torch\n",
    "\n",
    "torch.cuda.is_available()"
   ]
  },
  {
   "cell_type": "code",
   "execution_count": 2,
   "id": "75c5a263",
   "metadata": {},
   "outputs": [
    {
     "data": {
      "text/plain": [
       "'gpu'"
      ]
     },
     "execution_count": 2,
     "metadata": {},
     "output_type": "execute_result"
    }
   ],
   "source": [
    "import jax\n",
    "\n",
    "jax.default_backend()"
   ]
  },
  {
   "cell_type": "code",
   "execution_count": 3,
   "id": "19940a91",
   "metadata": {},
   "outputs": [
    {
     "data": {
      "application/vnd.microsoft.datawrangler.viewer.v0+json": {
       "columns": [
        {
         "name": "index",
         "rawType": "int64",
         "type": "integer"
        },
        {
         "name": "PassengerId",
         "rawType": "int64",
         "type": "integer"
        },
        {
         "name": "Survived",
         "rawType": "int64",
         "type": "integer"
        },
        {
         "name": "Pclass",
         "rawType": "int64",
         "type": "integer"
        },
        {
         "name": "Name",
         "rawType": "object",
         "type": "string"
        },
        {
         "name": "Sex",
         "rawType": "object",
         "type": "string"
        },
        {
         "name": "Age",
         "rawType": "float64",
         "type": "float"
        },
        {
         "name": "SibSp",
         "rawType": "int64",
         "type": "integer"
        },
        {
         "name": "Parch",
         "rawType": "int64",
         "type": "integer"
        },
        {
         "name": "Ticket",
         "rawType": "object",
         "type": "string"
        },
        {
         "name": "Fare",
         "rawType": "float64",
         "type": "float"
        },
        {
         "name": "Cabin",
         "rawType": "object",
         "type": "unknown"
        },
        {
         "name": "Embarked",
         "rawType": "object",
         "type": "string"
        }
       ],
       "ref": "2b620ec9-7d9d-4f29-914e-1eb0036d3545",
       "rows": [
        [
         "0",
         "1",
         "0",
         "3",
         "Braund, Mr. Owen Harris",
         "male",
         "22.0",
         "1",
         "0",
         "A/5 21171",
         "7.25",
         null,
         "S"
        ],
        [
         "1",
         "2",
         "1",
         "1",
         "Cumings, Mrs. John Bradley (Florence Briggs Thayer)",
         "female",
         "38.0",
         "1",
         "0",
         "PC 17599",
         "71.2833",
         "C85",
         "C"
        ],
        [
         "2",
         "3",
         "1",
         "3",
         "Heikkinen, Miss. Laina",
         "female",
         "26.0",
         "0",
         "0",
         "STON/O2. 3101282",
         "7.925",
         null,
         "S"
        ],
        [
         "3",
         "4",
         "1",
         "1",
         "Futrelle, Mrs. Jacques Heath (Lily May Peel)",
         "female",
         "35.0",
         "1",
         "0",
         "113803",
         "53.1",
         "C123",
         "S"
        ],
        [
         "4",
         "5",
         "0",
         "3",
         "Allen, Mr. William Henry",
         "male",
         "35.0",
         "0",
         "0",
         "373450",
         "8.05",
         null,
         "S"
        ]
       ],
       "shape": {
        "columns": 12,
        "rows": 5
       }
      },
      "text/html": [
       "<div>\n",
       "<style scoped>\n",
       "    .dataframe tbody tr th:only-of-type {\n",
       "        vertical-align: middle;\n",
       "    }\n",
       "\n",
       "    .dataframe tbody tr th {\n",
       "        vertical-align: top;\n",
       "    }\n",
       "\n",
       "    .dataframe thead th {\n",
       "        text-align: right;\n",
       "    }\n",
       "</style>\n",
       "<table border=\"1\" class=\"dataframe\">\n",
       "  <thead>\n",
       "    <tr style=\"text-align: right;\">\n",
       "      <th></th>\n",
       "      <th>PassengerId</th>\n",
       "      <th>Survived</th>\n",
       "      <th>Pclass</th>\n",
       "      <th>Name</th>\n",
       "      <th>Sex</th>\n",
       "      <th>Age</th>\n",
       "      <th>SibSp</th>\n",
       "      <th>Parch</th>\n",
       "      <th>Ticket</th>\n",
       "      <th>Fare</th>\n",
       "      <th>Cabin</th>\n",
       "      <th>Embarked</th>\n",
       "    </tr>\n",
       "  </thead>\n",
       "  <tbody>\n",
       "    <tr>\n",
       "      <th>0</th>\n",
       "      <td>1</td>\n",
       "      <td>0</td>\n",
       "      <td>3</td>\n",
       "      <td>Braund, Mr. Owen Harris</td>\n",
       "      <td>male</td>\n",
       "      <td>22.0</td>\n",
       "      <td>1</td>\n",
       "      <td>0</td>\n",
       "      <td>A/5 21171</td>\n",
       "      <td>7.2500</td>\n",
       "      <td>NaN</td>\n",
       "      <td>S</td>\n",
       "    </tr>\n",
       "    <tr>\n",
       "      <th>1</th>\n",
       "      <td>2</td>\n",
       "      <td>1</td>\n",
       "      <td>1</td>\n",
       "      <td>Cumings, Mrs. John Bradley (Florence Briggs Th...</td>\n",
       "      <td>female</td>\n",
       "      <td>38.0</td>\n",
       "      <td>1</td>\n",
       "      <td>0</td>\n",
       "      <td>PC 17599</td>\n",
       "      <td>71.2833</td>\n",
       "      <td>C85</td>\n",
       "      <td>C</td>\n",
       "    </tr>\n",
       "    <tr>\n",
       "      <th>2</th>\n",
       "      <td>3</td>\n",
       "      <td>1</td>\n",
       "      <td>3</td>\n",
       "      <td>Heikkinen, Miss. Laina</td>\n",
       "      <td>female</td>\n",
       "      <td>26.0</td>\n",
       "      <td>0</td>\n",
       "      <td>0</td>\n",
       "      <td>STON/O2. 3101282</td>\n",
       "      <td>7.9250</td>\n",
       "      <td>NaN</td>\n",
       "      <td>S</td>\n",
       "    </tr>\n",
       "    <tr>\n",
       "      <th>3</th>\n",
       "      <td>4</td>\n",
       "      <td>1</td>\n",
       "      <td>1</td>\n",
       "      <td>Futrelle, Mrs. Jacques Heath (Lily May Peel)</td>\n",
       "      <td>female</td>\n",
       "      <td>35.0</td>\n",
       "      <td>1</td>\n",
       "      <td>0</td>\n",
       "      <td>113803</td>\n",
       "      <td>53.1000</td>\n",
       "      <td>C123</td>\n",
       "      <td>S</td>\n",
       "    </tr>\n",
       "    <tr>\n",
       "      <th>4</th>\n",
       "      <td>5</td>\n",
       "      <td>0</td>\n",
       "      <td>3</td>\n",
       "      <td>Allen, Mr. William Henry</td>\n",
       "      <td>male</td>\n",
       "      <td>35.0</td>\n",
       "      <td>0</td>\n",
       "      <td>0</td>\n",
       "      <td>373450</td>\n",
       "      <td>8.0500</td>\n",
       "      <td>NaN</td>\n",
       "      <td>S</td>\n",
       "    </tr>\n",
       "  </tbody>\n",
       "</table>\n",
       "</div>"
      ],
      "text/plain": [
       "   PassengerId  Survived  Pclass  \\\n",
       "0            1         0       3   \n",
       "1            2         1       1   \n",
       "2            3         1       3   \n",
       "3            4         1       1   \n",
       "4            5         0       3   \n",
       "\n",
       "                                                Name     Sex   Age  SibSp  \\\n",
       "0                            Braund, Mr. Owen Harris    male  22.0      1   \n",
       "1  Cumings, Mrs. John Bradley (Florence Briggs Th...  female  38.0      1   \n",
       "2                             Heikkinen, Miss. Laina  female  26.0      0   \n",
       "3       Futrelle, Mrs. Jacques Heath (Lily May Peel)  female  35.0      1   \n",
       "4                           Allen, Mr. William Henry    male  35.0      0   \n",
       "\n",
       "   Parch            Ticket     Fare Cabin Embarked  \n",
       "0      0         A/5 21171   7.2500   NaN        S  \n",
       "1      0          PC 17599  71.2833   C85        C  \n",
       "2      0  STON/O2. 3101282   7.9250   NaN        S  \n",
       "3      0            113803  53.1000  C123        S  \n",
       "4      0            373450   8.0500   NaN        S  "
      ]
     },
     "execution_count": 3,
     "metadata": {},
     "output_type": "execute_result"
    }
   ],
   "source": [
    "import pandas as pd\n",
    "\n",
    "df = pd.read_csv(\"data/titanic/train.csv\")\n",
    "df.head()"
   ]
  },
  {
   "cell_type": "code",
   "execution_count": 4,
   "id": "9a9525ab",
   "metadata": {},
   "outputs": [
    {
     "data": {
      "application/vnd.microsoft.datawrangler.viewer.v0+json": {
       "columns": [
        {
         "name": "index",
         "rawType": "int64",
         "type": "integer"
        },
        {
         "name": "PassengerId",
         "rawType": "int64",
         "type": "integer"
        },
        {
         "name": "Pclass",
         "rawType": "int64",
         "type": "integer"
        },
        {
         "name": "Sex",
         "rawType": "int64",
         "type": "integer"
        },
        {
         "name": "Age",
         "rawType": "float64",
         "type": "float"
        },
        {
         "name": "SibSp",
         "rawType": "int64",
         "type": "integer"
        },
        {
         "name": "Parch",
         "rawType": "int64",
         "type": "integer"
        },
        {
         "name": "Fare",
         "rawType": "float64",
         "type": "float"
        },
        {
         "name": "Embarked",
         "rawType": "float64",
         "type": "float"
        }
       ],
       "ref": "001e9925-9599-412e-82cf-75eea08972ea",
       "rows": [
        [
         "0",
         "1",
         "3",
         "0",
         "22.0",
         "1",
         "0",
         "7.25",
         "0.0"
        ],
        [
         "1",
         "2",
         "1",
         "1",
         "38.0",
         "1",
         "0",
         "71.2833",
         "1.0"
        ],
        [
         "2",
         "3",
         "3",
         "1",
         "26.0",
         "0",
         "0",
         "7.925",
         "0.0"
        ],
        [
         "3",
         "4",
         "1",
         "1",
         "35.0",
         "1",
         "0",
         "53.1",
         "0.0"
        ],
        [
         "4",
         "5",
         "3",
         "0",
         "35.0",
         "0",
         "0",
         "8.05",
         "0.0"
        ]
       ],
       "shape": {
        "columns": 8,
        "rows": 5
       }
      },
      "text/html": [
       "<div>\n",
       "<style scoped>\n",
       "    .dataframe tbody tr th:only-of-type {\n",
       "        vertical-align: middle;\n",
       "    }\n",
       "\n",
       "    .dataframe tbody tr th {\n",
       "        vertical-align: top;\n",
       "    }\n",
       "\n",
       "    .dataframe thead th {\n",
       "        text-align: right;\n",
       "    }\n",
       "</style>\n",
       "<table border=\"1\" class=\"dataframe\">\n",
       "  <thead>\n",
       "    <tr style=\"text-align: right;\">\n",
       "      <th></th>\n",
       "      <th>PassengerId</th>\n",
       "      <th>Pclass</th>\n",
       "      <th>Sex</th>\n",
       "      <th>Age</th>\n",
       "      <th>SibSp</th>\n",
       "      <th>Parch</th>\n",
       "      <th>Fare</th>\n",
       "      <th>Embarked</th>\n",
       "    </tr>\n",
       "  </thead>\n",
       "  <tbody>\n",
       "    <tr>\n",
       "      <th>0</th>\n",
       "      <td>1</td>\n",
       "      <td>3</td>\n",
       "      <td>0</td>\n",
       "      <td>22.0</td>\n",
       "      <td>1</td>\n",
       "      <td>0</td>\n",
       "      <td>7.2500</td>\n",
       "      <td>0.0</td>\n",
       "    </tr>\n",
       "    <tr>\n",
       "      <th>1</th>\n",
       "      <td>2</td>\n",
       "      <td>1</td>\n",
       "      <td>1</td>\n",
       "      <td>38.0</td>\n",
       "      <td>1</td>\n",
       "      <td>0</td>\n",
       "      <td>71.2833</td>\n",
       "      <td>1.0</td>\n",
       "    </tr>\n",
       "    <tr>\n",
       "      <th>2</th>\n",
       "      <td>3</td>\n",
       "      <td>3</td>\n",
       "      <td>1</td>\n",
       "      <td>26.0</td>\n",
       "      <td>0</td>\n",
       "      <td>0</td>\n",
       "      <td>7.9250</td>\n",
       "      <td>0.0</td>\n",
       "    </tr>\n",
       "    <tr>\n",
       "      <th>3</th>\n",
       "      <td>4</td>\n",
       "      <td>1</td>\n",
       "      <td>1</td>\n",
       "      <td>35.0</td>\n",
       "      <td>1</td>\n",
       "      <td>0</td>\n",
       "      <td>53.1000</td>\n",
       "      <td>0.0</td>\n",
       "    </tr>\n",
       "    <tr>\n",
       "      <th>4</th>\n",
       "      <td>5</td>\n",
       "      <td>3</td>\n",
       "      <td>0</td>\n",
       "      <td>35.0</td>\n",
       "      <td>0</td>\n",
       "      <td>0</td>\n",
       "      <td>8.0500</td>\n",
       "      <td>0.0</td>\n",
       "    </tr>\n",
       "  </tbody>\n",
       "</table>\n",
       "</div>"
      ],
      "text/plain": [
       "   PassengerId  Pclass  Sex   Age  SibSp  Parch     Fare  Embarked\n",
       "0            1       3    0  22.0      1      0   7.2500       0.0\n",
       "1            2       1    1  38.0      1      0  71.2833       1.0\n",
       "2            3       3    1  26.0      0      0   7.9250       0.0\n",
       "3            4       1    1  35.0      1      0  53.1000       0.0\n",
       "4            5       3    0  35.0      0      0   8.0500       0.0"
      ]
     },
     "execution_count": 4,
     "metadata": {},
     "output_type": "execute_result"
    }
   ],
   "source": [
    "def preprocess_titanic_data(df: pd.DataFrame) -> tuple[pd.DataFrame, pd.Series]:\n",
    "    \"\"\"\n",
    "    Basic preprocessing of the Titanic dataset for usage within ML training\n",
    "    \"\"\"\n",
    "    df = df.drop(columns=[\"Name\", \"Ticket\", \"Cabin\"], axis=1)\n",
    "    df[\"Sex\"] = df[\"Sex\"].map({\"male\": 0, \"female\": 1})\n",
    "    df[\"Embarked\"] = df[\"Embarked\"].map({\"S\": 0, \"C\": 1, \"Q\": 2})\n",
    "    df[\"Age\"] = df[\"Age\"].fillna(df[\"Age\"].median())\n",
    "    df = df.dropna()\n",
    "    labels = df.pop(\"Survived\")\n",
    "    return df, labels\n",
    "\n",
    "\n",
    "df, labels = preprocess_titanic_data(df)\n",
    "df.head()"
   ]
  },
  {
   "cell_type": "code",
   "execution_count": 5,
   "id": "980de9a4",
   "metadata": {},
   "outputs": [],
   "source": [
    "# Split data into train and test/eval\n",
    "from sklearn.model_selection import train_test_split\n",
    "\n",
    "X_train, X_test, y_train, y_test = train_test_split(\n",
    "    df, labels, test_size=0.2, random_state=42\n",
    ")"
   ]
  },
  {
   "cell_type": "markdown",
   "id": "9b30de39",
   "metadata": {},
   "source": [
    "As a baseline, let's train a simple RandomForestClassifier with this data"
   ]
  },
  {
   "cell_type": "code",
   "execution_count": 6,
   "id": "e8b8fe39",
   "metadata": {},
   "outputs": [
    {
     "name": "stdout",
     "output_type": "stream",
     "text": [
      "0.797752808988764\n"
     ]
    }
   ],
   "source": [
    "from sklearn.ensemble import RandomForestClassifier\n",
    "from sklearn.metrics import accuracy_score\n",
    "\n",
    "rf = RandomForestClassifier(n_estimators=100, random_state=42)\n",
    "rf.fit(X_train, y_train)\n",
    "\n",
    "y_pred = rf.predict(X_test)\n",
    "\n",
    "print(accuracy_score(y_test, y_pred))"
   ]
  },
  {
   "cell_type": "markdown",
   "id": "7706921b",
   "metadata": {},
   "source": [
    "### Dataloader\n",
    "See https://jax.readthedocs.io/en/latest/notebooks/Neural_Network_and_Data_Loading.html for more details"
   ]
  },
  {
   "cell_type": "code",
   "execution_count": 7,
   "id": "8efa6f82",
   "metadata": {},
   "outputs": [],
   "source": [
    "import jax.numpy as jnp\n",
    "from torch.utils.data import Dataset, DataLoader, default_collate\n",
    "from jax.tree_util import tree_map\n",
    "\n",
    "\n",
    "class TitanicDataset(Dataset):\n",
    "    def __init__(self, samples: pd.DataFrame, labels: pd.Series):\n",
    "        self.df = samples\n",
    "        self.labels = labels\n",
    "\n",
    "    def __len__(self):\n",
    "        return len(self.df)\n",
    "\n",
    "    def __getitem__(self, idx):\n",
    "        x = torch.tensor(self.df.iloc[idx].values, dtype=torch.float32)\n",
    "        y = torch.tensor(self.labels.iloc[idx], dtype=torch.int32)\n",
    "        return x, y\n",
    "\n",
    "\n",
    "# This collate function is taken from the JAX tutorial with PyTorch Data Loading\n",
    "# https://jax.readthedocs.io/en/latest/notebooks/Neural_Network_and_Data_Loading.html\n",
    "def numpy_collate(batch):\n",
    "    return tree_map(jnp.asarray, default_collate(batch))\n",
    "\n",
    "\n",
    "train_dataset = TitanicDataset(X_train, y_train)\n",
    "train_dataloader_jax = DataLoader(\n",
    "    train_dataset, batch_size=64, shuffle=True, collate_fn=numpy_collate\n",
    ")\n",
    "train_dataloader_torch = DataLoader(train_dataset, batch_size=64, shuffle=True)\n",
    "\n",
    "eval_dataset = TitanicDataset(X_test, y_test)\n",
    "eval_dataloader_jax = DataLoader(\n",
    "    eval_dataset, batch_size=64, shuffle=False, collate_fn=numpy_collate\n",
    ")\n",
    "eval_dataloader_torch = DataLoader(eval_dataset, batch_size=64, shuffle=False)"
   ]
  },
  {
   "cell_type": "markdown",
   "id": "0b697354",
   "metadata": {},
   "source": [
    "### PyTorch Reference Implementation and Training"
   ]
  },
  {
   "cell_type": "markdown",
   "id": "7b14904a",
   "metadata": {},
   "source": [
    "Model Definition"
   ]
  },
  {
   "cell_type": "code",
   "execution_count": 8,
   "id": "9a8ae58f",
   "metadata": {},
   "outputs": [],
   "source": [
    "import torch.nn as nn\n",
    "import torch.optim as optim\n",
    "\n",
    "\n",
    "class TitanicNeuralNet(nn.Module):\n",
    "    def __init__(self, num_hidden_1, num_hidden_2):\n",
    "        super().__init__()\n",
    "        self.linear1 = nn.Linear(8, num_hidden_1)\n",
    "        self.dropout = nn.Dropout(0.01)\n",
    "        self.relu = nn.LeakyReLU()\n",
    "        self.linear2 = nn.Linear(num_hidden_1, num_hidden_2)\n",
    "        self.linear3 = nn.Linear(num_hidden_2, 1, bias=False)\n",
    "\n",
    "    def forward(self, x):\n",
    "        x = self.linear1(x)\n",
    "        x = self.dropout(x)\n",
    "        x = self.relu(x)\n",
    "        x = self.linear2(x)\n",
    "        x = self.dropout(x)\n",
    "        x = self.relu(x)\n",
    "        out = self.linear3(x)\n",
    "        return out"
   ]
  },
  {
   "cell_type": "markdown",
   "id": "f39016a8",
   "metadata": {},
   "source": [
    "Training Loop"
   ]
  },
  {
   "cell_type": "code",
   "execution_count": 9,
   "id": "9f7aa9bd",
   "metadata": {},
   "outputs": [
    {
     "name": "stderr",
     "output_type": "stream",
     "text": [
      "Epoch 499: 100%|██████████| 500/500 [00:26<00:00, 18.65it/s, eval_accuracy=0.798, train_accuracy=0.831]\n"
     ]
    }
   ],
   "source": [
    "from tqdm import tqdm\n",
    "\n",
    "\n",
    "def train(\n",
    "    model: nn.Module,\n",
    "    train_dataloader: DataLoader,\n",
    "    eval_dataloader: DataLoader,\n",
    "    num_epochs: int,\n",
    "):\n",
    "    optimizer = optim.Adam(model.parameters(), lr=0.01)\n",
    "    criterion = torch.nn.BCEWithLogitsLoss()\n",
    "    for epoch in (pbar := tqdm(range(num_epochs))):\n",
    "        pbar.set_description(f\"Epoch {epoch}\")\n",
    "        model.train()\n",
    "        for batch, labels in train_dataloader:\n",
    "            # zero your gradients\n",
    "            optimizer.zero_grad()\n",
    "\n",
    "            # forward pass\n",
    "            logits = model(batch)\n",
    "\n",
    "            # compute loss\n",
    "            loss = criterion(logits.squeeze(), labels.float())\n",
    "\n",
    "            # backward pass\n",
    "            loss.backward()\n",
    "\n",
    "            # take an optimizer step\n",
    "            optimizer.step()\n",
    "\n",
    "        pbar.set_postfix(\n",
    "            train_accuracy=eval(model, train_dataloader),\n",
    "            eval_accuracy=eval(model, eval_dataloader),\n",
    "        )\n",
    "\n",
    "\n",
    "def eval(model: nn.Module, eval_dataloader: DataLoader):\n",
    "    model.eval()\n",
    "    num_correct = 0\n",
    "    num_samples = 0\n",
    "    for batch, labels in eval_dataloader:\n",
    "        logits = model(batch)\n",
    "        preds = torch.round(torch.sigmoid(logits))\n",
    "        num_correct += (preds.squeeze() == labels).sum().item()\n",
    "        num_samples += labels.shape[0]\n",
    "    return num_correct / num_samples\n",
    "\n",
    "\n",
    "model = TitanicNeuralNet(num_hidden_1=32, num_hidden_2=16)\n",
    "train(model, train_dataloader_torch, eval_dataloader_torch, num_epochs=500)"
   ]
  },
  {
   "cell_type": "markdown",
   "id": "a3d09ad0",
   "metadata": {},
   "source": [
    "### Flax NNX (Object-Oriented) Neural Net\n",
    "See https://flax.readthedocs.io/en/latest/index.html for full NNX documentation, with more examples and a deeper dive."
   ]
  },
  {
   "cell_type": "markdown",
   "id": "95d3690d",
   "metadata": {},
   "source": [
    "Model Definition"
   ]
  },
  {
   "cell_type": "code",
   "execution_count": 10,
   "id": "cb99f486",
   "metadata": {},
   "outputs": [],
   "source": [
    "from flax import nnx\n",
    "\n",
    "\n",
    "class TitanicNNX(nnx.Module):\n",
    "    def __init__(self, num_hidden_1: int, num_hidden_2: int, rngs: nnx.Rngs):\n",
    "        self.linear1 = nnx.Linear(8, num_hidden_1, rngs=rngs)\n",
    "        self.dropout = nnx.Dropout(0.01, rngs=rngs)\n",
    "        self.relu = nnx.leaky_relu\n",
    "        self.linear2 = nnx.Linear(num_hidden_1, num_hidden_2, rngs=rngs)\n",
    "        self.linear3 = nnx.Linear(num_hidden_2, 1, use_bias=False, rngs=rngs)\n",
    "\n",
    "    def __call__(self, x):\n",
    "        x = self.linear1(x)\n",
    "        x = self.dropout(x)\n",
    "        x = self.relu(x)\n",
    "        x = self.linear2(x)\n",
    "        x = self.dropout(x)\n",
    "        x = self.relu(x)\n",
    "        out = self.linear3(x)\n",
    "        return out"
   ]
  },
  {
   "cell_type": "markdown",
   "id": "f314b8ff",
   "metadata": {},
   "source": [
    "Initialize the Model"
   ]
  },
  {
   "cell_type": "code",
   "execution_count": 11,
   "id": "0d8adb03",
   "metadata": {},
   "outputs": [
    {
     "data": {
      "text/html": [
       "<script> (()=>{ if (customElements.get('treescope-container') === undefined) { class TreescopeContainer extends HTMLElement { constructor() { super(); this.attachShadow({mode: \"open\"}); this.defns = {}; this.state = {}; } } customElements.define(\"treescope-container\", TreescopeContainer); } if (customElements.get('treescope-run-here') === undefined) { class RunHere extends HTMLElement { constructor() { super() } connectedCallback() { const run = child => { const fn = new Function(child.textContent); child.textContent = \"\"; fn.call(this); this.remove(); }; const child = this.querySelector(\"script\"); if (child) { run(child); } else { new MutationObserver(()=>{ run(this.querySelector(\"script\")); }).observe(this, {childList: true}); } } } customElements.define(\"treescope-run-here\", RunHere); } })(); </script> <treescope-container class=\"treescope_out_bdfb31028b334e2c9d1685893bfb610e\" style=\"display:block\"></treescope-container> <treescope-run-here><script type=\"application/octet-stream\"> const root = ( Array.from(document.getElementsByClassName( \"treescope_out_bdfb31028b334e2c9d1685893bfb610e\")) .filter((elt) => !elt.dataset.setup) )[0]; root.dataset.setup = 1; const msg = document.createElement(\"span\"); msg.style = \"color: #cccccc; font-family: monospace;\"; msg.textContent = \"(Loading...)\"; root.state.loadingMsg = msg; root.shadowRoot.appendChild(msg); root.state.chain = new Promise((resolve, reject) => { const observer = new IntersectionObserver((entries) => { for (const entry of entries) { if (entry.isIntersecting) { resolve(); observer.disconnect(); return; } } }, {rootMargin: \"1000px\"}); window.setTimeout(() => { observer.observe(root); }, 0); }); root.state.deferring = false; const _insertNode = (node) => { for (let oldScript of node.querySelectorAll(\"script\")) { let newScript = document.createElement(\"script\"); newScript.type = oldScript.type; newScript.textContent = oldScript.textContent; oldScript.parentNode.replaceChild(newScript, oldScript); } if (root.state.loadingMsg) { root.state.loadingMsg.remove(); root.state.loadingMsg = null; } root.shadowRoot.appendChild(node); }; root.defns.insertContent = ((contentNode, compressed) => { if (compressed) { root.state.deferring = true; } if (root.state.deferring) { root.state.chain = (async () => { await root.state.chain; if (compressed) { const encoded = contentNode.textContent; const blob = new Blob([ Uint8Array.from(atob(encoded), (m) => m.codePointAt(0)) ]); const reader = blob.stream().pipeThrough( new DecompressionStream(\"deflate\") ).pipeThrough( new TextDecoderStream(\"utf-8\") ).getReader(); const parts = []; while (true) { const step = await reader.read(); if (step.done) { break; } parts.push(step.value); } const tpl = document.createElement('template'); tpl.innerHTML = parts.join(\"\"); _insertNode(tpl.content); } else { _insertNode(contentNode.content); } })(); } else { _insertNode(contentNode.content); } }); </script></treescope-run-here><div style=\"display:none\"> <script type=\"application/octet-stream\" >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</script> <treescope-run-here><script type=\"application/octet-stream\"> const root = ( Array.from(document.getElementsByClassName( \"treescope_out_bdfb31028b334e2c9d1685893bfb610e\")) .filter((elt) => !elt.dataset['step0']) )[0]; root.dataset['step0'] = 1; root.defns.insertContent( this.parentNode.querySelector('script[type=\"application/octet-stream\"]'), true ); this.parentNode.remove(); </script></treescope-run-here> </div>"
      ],
      "text/plain": [
       "<IPython.core.display.HTML object>"
      ]
     },
     "metadata": {},
     "output_type": "display_data"
    },
    {
     "data": {
      "text/html": [
       "<div style=\"display:none\"> <script type=\"application/octet-stream\" >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</script> <treescope-run-here><script type=\"application/octet-stream\"> const root = ( Array.from(document.getElementsByClassName( \"treescope_out_bdfb31028b334e2c9d1685893bfb610e\")) .filter((elt) => !elt.dataset['step1']) )[0]; root.dataset['step1'] = 1; root.defns.insertContent( this.parentNode.querySelector('script[type=\"application/octet-stream\"]'), true ); this.parentNode.remove(); </script></treescope-run-here> </div>"
      ],
      "text/plain": [
       "<IPython.core.display.HTML object>"
      ]
     },
     "metadata": {},
     "output_type": "display_data"
    }
   ],
   "source": [
    "model = TitanicNNX(32, 16, rngs=nnx.Rngs(0))\n",
    "nnx.display(model)"
   ]
  },
  {
   "cell_type": "markdown",
   "id": "df9a3711",
   "metadata": {},
   "source": [
    "Training Loop Setup"
   ]
  },
  {
   "cell_type": "code",
   "execution_count": 12,
   "id": "c941e5bf",
   "metadata": {},
   "outputs": [],
   "source": [
    "import optax\n",
    "from jax import Array\n",
    "\n",
    "\n",
    "def train(\n",
    "    model: nnx.Module,\n",
    "    train_dataloader: DataLoader,\n",
    "    eval_dataloader: DataLoader,\n",
    "    num_epochs=int,\n",
    "):\n",
    "    optimizer = nnx.Optimizer(model, optax.adam(learning_rate=0.01))\n",
    "\n",
    "    for epoch in (pbar := tqdm(range(num_epochs))):\n",
    "        pbar.set_description(f\"Epoch {epoch}\")\n",
    "        model.train()\n",
    "        for batch in train_dataloader:\n",
    "            train_step(model, optimizer, batch)\n",
    "\n",
    "        pbar.set_postfix(\n",
    "            train_accuracy=eval(model, train_dataloader),\n",
    "            eval_accuracy=eval(model, eval_dataloader),\n",
    "        )\n",
    "\n",
    "\n",
    "@nnx.jit\n",
    "def train_step(model: nnx.Module, optimizer: nnx.Optimizer, batch: Array):\n",
    "    def loss_fn(model):\n",
    "        logits = model(batch[0])\n",
    "        loss = optax.sigmoid_binary_cross_entropy(logits.squeeze(), batch[1]).mean()\n",
    "        return loss\n",
    "\n",
    "    grad_fn = nnx.value_and_grad(loss_fn)\n",
    "    loss, grads = grad_fn(model)\n",
    "    optimizer.update(grads)\n",
    "\n",
    "\n",
    "def eval(model: nnx.Module, eval_dataloader: DataLoader):\n",
    "    total = 0\n",
    "    num_correct = 0\n",
    "    model.eval()\n",
    "    for batch in eval_dataloader:\n",
    "        res = eval_step(model, batch)\n",
    "        total += res.shape[0]\n",
    "        num_correct += jnp.sum(res)\n",
    "    return num_correct / total\n",
    "\n",
    "\n",
    "@nnx.jit\n",
    "def eval_step(model: nnx.Module, batch: Array):\n",
    "    logits = model(batch[0])\n",
    "    logits = logits.squeeze()\n",
    "    preds = jnp.round(nnx.sigmoid(logits))\n",
    "    return preds == batch[1]"
   ]
  },
  {
   "cell_type": "markdown",
   "id": "9533d579",
   "metadata": {},
   "source": [
    "Initiate Training"
   ]
  },
  {
   "cell_type": "code",
   "execution_count": 13,
   "id": "d7da3a5d",
   "metadata": {},
   "outputs": [
    {
     "name": "stderr",
     "output_type": "stream",
     "text": [
      "Epoch 499: 100%|██████████| 500/500 [00:33<00:00, 15.11it/s, eval_accuracy=0.78089887, train_accuracy=0.81434596]\n"
     ]
    }
   ],
   "source": [
    "train(model, train_dataloader_jax, eval_dataloader_jax, num_epochs=500)"
   ]
  },
  {
   "cell_type": "markdown",
   "id": "a6cb32ea",
   "metadata": {},
   "source": [
    "### Flax Linen (Functional) Neural Net\n",
    "\n",
    "See https://flax-linen.readthedocs.io/en/latest/index.html for full Linen documentation, with more examples and a deeper dive."
   ]
  },
  {
   "cell_type": "code",
   "execution_count": 14,
   "id": "86ba0578",
   "metadata": {},
   "outputs": [],
   "source": [
    "from flax import linen as nn\n",
    "\n",
    "initializer = jax.nn.initializers.lecun_normal()\n",
    "\n",
    "# Model definition\n",
    "\n",
    "\n",
    "# setup(approach)\n",
    "class TitanicLinen(nn.Module):\n",
    "    num_hidden_1: int\n",
    "    num_hidden_2: int\n",
    "\n",
    "    def setup(self):\n",
    "        self.linear1 = nn.Dense(features=self.num_hidden_1, kernel_init=initializer)\n",
    "        self.linear2 = nn.Dense(features=self.num_hidden_2, kernel_init=initializer)\n",
    "        self.linear3 = nn.Dense(features=1, use_bias=False, kernel_init=initializer)\n",
    "        self.dropout1 = nn.Dropout(0.01)\n",
    "        self.dropout2 = nn.Dropout(0.01)\n",
    "\n",
    "    def __call__(self, x, training):\n",
    "        x = self.linear1(x)\n",
    "        x = self.dropout1(x, deterministic=not training)\n",
    "        x = nn.leaky_relu(x)\n",
    "        x = self.linear2(x)\n",
    "        x = self.dropout2(x, deterministic=not training)\n",
    "        x = nn.leaky_relu(x)\n",
    "        out = self.linear3(x)\n",
    "        return out\n",
    "\n",
    "\n",
    "## nn.compact approach\n",
    "class TitanicLinenCompact(nn.Module):\n",
    "    num_hidden_1: int\n",
    "    num_hidden_2: int\n",
    "\n",
    "    @nn.compact\n",
    "    def __call__(self, x, training):\n",
    "        x = nn.Dense(features=self.num_hidden_1, kernel_init=initializer)(x)\n",
    "        x = nn.Dropout(0.01, deterministic=not training)(x)\n",
    "        x = nn.leaky_relu(x)\n",
    "        x = nn.Dense(features=self.num_hidden_2, kernel_init=initializer)(x)\n",
    "        x = nn.Dropout(0.01, deterministic=not training)(x)\n",
    "        x = nn.leaky_relu(x)\n",
    "        out = nn.Dense(features=1, use_bias=False, kernel_init=initializer)(x)\n",
    "        return out"
   ]
  },
  {
   "cell_type": "code",
   "execution_count": 15,
   "id": "e9d4fb0e",
   "metadata": {},
   "outputs": [
    {
     "data": {
      "text/plain": [
       "(64, 1)"
      ]
     },
     "execution_count": 15,
     "metadata": {},
     "output_type": "execute_result"
    }
   ],
   "source": [
    "rng = jax.random.PRNGKey(42)\n",
    "new_rng, subkey, subdropout = jax.random.split(rng, num=3)\n",
    "\n",
    "sample_data, sample_labels = next(iter(train_dataloader_jax))\n",
    "model = TitanicLinenCompact(num_hidden_1=32, num_hidden_2=16)\n",
    "params = model.init(subkey, sample_data, True)\n",
    "logits = model.apply(params, sample_data, True, rngs={\"dropout\": subdropout})\n",
    "logits.shape"
   ]
  },
  {
   "cell_type": "code",
   "execution_count": 16,
   "id": "37ac7924",
   "metadata": {},
   "outputs": [],
   "source": [
    "import optax\n",
    "from flax.training import train_state\n",
    "\n",
    "# Setup for train loop\n",
    "optimizer = optax.adam(learning_rate=0.01)\n",
    "\n",
    "state = train_state.TrainState.create(\n",
    "    apply_fn=model.apply,\n",
    "    params=params,\n",
    "    tx=optimizer,\n",
    ")"
   ]
  },
  {
   "cell_type": "code",
   "execution_count": 17,
   "id": "cf522358",
   "metadata": {},
   "outputs": [],
   "source": [
    "from jax import jit\n",
    "\n",
    "\n",
    "# Train loop\n",
    "def train(state, train_dataloader, eval_dataloader, subdropout, num_epochs):\n",
    "    for epoch in (pbar := tqdm(range(num_epochs))):\n",
    "        pbar.set_description(f\"Epoch {epoch}\")\n",
    "        for batch in train_dataloader:\n",
    "            state, loss = train_step(state, batch, subdropout)\n",
    "\n",
    "        pbar.set_postfix(\n",
    "            train_accuracy=eval(state, train_dataloader),\n",
    "            eval_accuracy=eval(state, eval_dataloader),\n",
    "        )\n",
    "\n",
    "    return state\n",
    "\n",
    "\n",
    "def eval(state, eval_dataloader):\n",
    "    total = 0\n",
    "    num_correct = 0\n",
    "    for batch in eval_dataloader:\n",
    "        res = eval_step(state, batch)\n",
    "        total += res.shape[0]\n",
    "        num_correct += jnp.sum(res)\n",
    "    return num_correct / total\n",
    "\n",
    "\n",
    "@jit\n",
    "def train_step(state, batch, subdropout):\n",
    "    def loss_fn(params):\n",
    "        logits = state.apply_fn(params, batch[0], True, rngs={\"dropout\": subdropout})\n",
    "        loss = optax.sigmoid_binary_cross_entropy(logits.squeeze(), batch[1]).mean()\n",
    "        return loss\n",
    "\n",
    "    grad_fn = jax.value_and_grad(loss_fn)\n",
    "    loss, grads = grad_fn(state.params)\n",
    "    state = state.apply_gradients(grads=grads)\n",
    "    return state, loss\n",
    "\n",
    "\n",
    "@jit\n",
    "def eval_step(state, batch):\n",
    "    logits = state.apply_fn(state.params, batch[0], False)\n",
    "    logits = logits.squeeze()\n",
    "    preds = jnp.round(nn.sigmoid(logits))\n",
    "    return preds == batch[1]"
   ]
  },
  {
   "cell_type": "code",
   "execution_count": 18,
   "id": "907f0187",
   "metadata": {},
   "outputs": [
    {
     "name": "stderr",
     "output_type": "stream",
     "text": [
      "Epoch 499: 100%|██████████| 500/500 [00:28<00:00, 17.65it/s, eval_accuracy=0.71910113, train_accuracy=0.8284107] \n"
     ]
    }
   ],
   "source": [
    "state = train(\n",
    "    state, train_dataloader_jax, eval_dataloader_jax, subdropout, num_epochs=500\n",
    ")"
   ]
  }
 ],
 "metadata": {
  "kernelspec": {
   "display_name": "purejaxrl",
   "language": "python",
   "name": "python3"
  },
  "language_info": {
   "codemirror_mode": {
    "name": "ipython",
    "version": 3
   },
   "file_extension": ".py",
   "mimetype": "text/x-python",
   "name": "python",
   "nbconvert_exporter": "python",
   "pygments_lexer": "ipython3",
   "version": "3.11.13"
  }
 },
 "nbformat": 4,
 "nbformat_minor": 5
}
